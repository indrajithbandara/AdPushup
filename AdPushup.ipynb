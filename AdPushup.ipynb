{
 "cells": [
  {
   "cell_type": "code",
   "execution_count": 1,
   "metadata": {
    "collapsed": true
   },
   "outputs": [],
   "source": [
    "import numpy as np\n",
    "import pandas as pd\n",
    "import matplotlib.pyplot as plt\n",
    "%matplotlib inline"
   ]
  },
  {
   "cell_type": "code",
   "execution_count": 2,
   "metadata": {
    "collapsed": false
   },
   "outputs": [],
   "source": [
    "%run scripts/epsilonGreedy.py\n",
    "%run scripts/ucb1.py\n",
    "%run scripts/thompson.py"
   ]
  },
  {
   "cell_type": "code",
   "execution_count": 4,
   "metadata": {
    "collapsed": false
   },
   "outputs": [],
   "source": [
    "# AdPushup ads data\n",
    "# AdPushup = pd.read_csv('./Data-Scientist-Task-Test-data/Data-Scientist-Task-Test-data.csv')\n",
    "AdPushup = pd.read_csv('./test.csv')"
   ]
  },
  {
   "cell_type": "code",
   "execution_count": 5,
   "metadata": {
    "collapsed": false
   },
   "outputs": [],
   "source": [
    "ads = [ i+ str(j) for i in ['A', 'B', 'C', 'D'] for j in range(1, 9)]"
   ]
  },
  {
   "cell_type": "code",
   "execution_count": 6,
   "metadata": {
    "collapsed": false
   },
   "outputs": [],
   "source": [
    "def learning(start, end, Ads, ad_data):\n",
    "    \n",
    "    for i in range(start, end):\n",
    "        hit_idx = (np.where(ad_data.ix[i] == 1)[0])\n",
    "        \n",
    "        for j in range(0, 32):\n",
    "            if len(hit_idx) != 0 and j in list(hit_idx):\n",
    "                Ads.update(j, 1)\n",
    "            else:\n",
    "                Ads.update(j, 0)\n",
    "    \n",
    "    return Ads"
   ]
  },
  {
   "cell_type": "code",
   "execution_count": 7,
   "metadata": {
    "collapsed": true
   },
   "outputs": [],
   "source": [
    "def recommendations(start, end, Ads, ad_data):\n",
    "    preds = []\n",
    "    true = []\n",
    "    \n",
    "    for i in range(start, end):\n",
    "        preds.append(Ads.recommend_ad())\n",
    "        true.append(np.where(ad_data.ix[i] == 1)[0])\n",
    "    \n",
    "    return (preds, true)"
   ]
  },
  {
   "cell_type": "code",
   "execution_count": 8,
   "metadata": {
    "collapsed": false
   },
   "outputs": [],
   "source": [
    "def calculate_revenue(true, pred):\n",
    "    correct_count = 0\n",
    "    for i in range(len(true)):\n",
    "        if pred[i] in true[i]:\n",
    "            correct_count += 1\n",
    "    \n",
    "    return correct_count\n",
    "            \n",
    "def get_average_regret(true, pred):\n",
    "    revenue_collected = calculate_revenue(true, pred)\n",
    "    return (len(true) - revenue_collected)"
   ]
  },
  {
   "cell_type": "code",
   "execution_count": 9,
   "metadata": {
    "collapsed": true
   },
   "outputs": [],
   "source": [
    "batches = [50, 100, 500, 1000, 5000, 10000, 30000, 50000, 100000, 500000, 999996]"
   ]
  },
  {
   "cell_type": "code",
   "execution_count": 10,
   "metadata": {
    "collapsed": false
   },
   "outputs": [],
   "source": [
    "average_regret_random = []\n",
    "\n",
    "num_examples = 1\n",
    "Ads_random = EpsilonGreedy(len(ads), 1., 1.)\n",
    "\n",
    "Ads_random = learning(0, num_examples, Ads_random, AdPushup)\n",
    "views = Ads_random.get_views()\n",
    "hits = Ads_random.get_hits()\n",
    "values = Ads_random.get_values()\n",
    "\n",
    "for batch in batches:\n",
    "    \n",
    "    Ads_random.set_views(views)\n",
    "    Ads_random.set_hits(hits)\n",
    "    Ads_random.set_values(values)\n",
    "    \n",
    "    pred, true = recommendations(num_examples, (num_examples + batch), Ads_random, AdPushup)\n",
    "    average_regret_random.append(get_average_regret(true, pred))"
   ]
  },
  {
   "cell_type": "code",
   "execution_count": 11,
   "metadata": {
    "collapsed": true
   },
   "outputs": [],
   "source": [
    "average_regret_eps = []\n",
    "\n",
    "num_examples = 1\n",
    "eps = EpsilonGreedy(len(ads), 0.2, 1.)\n",
    "\n",
    "eps = learning(0, num_examples, eps, AdPushup)\n",
    "views = eps.get_views()\n",
    "hits = eps.get_hits()\n",
    "values = eps.get_values()\n",
    "\n",
    "for batch in batches:\n",
    "    \n",
    "    eps.set_views(views)\n",
    "    eps.set_hits(hits)\n",
    "    eps.set_values(values)\n",
    "    \n",
    "    pred, true = recommendations(num_examples, (num_examples + batch), eps, AdPushup)\n",
    "    average_regret_eps.append(get_average_regret(true, pred))"
   ]
  },
  {
   "cell_type": "code",
   "execution_count": 12,
   "metadata": {
    "collapsed": true
   },
   "outputs": [],
   "source": [
    "average_regret_eps_decreasing = []\n",
    "\n",
    "num_examples = 1\n",
    "eps_decreasing = EpsilonGreedy(len(ads), .2, .999)\n",
    "\n",
    "eps_decreasing = learning(0, num_examples, eps_decreasing, AdPushup)\n",
    "views = eps_decreasing.get_views()\n",
    "hits = eps_decreasing.get_hits()\n",
    "values = eps_decreasing.get_values()\n",
    "\n",
    "for batch in batches:\n",
    "    \n",
    "    eps_decreasing.set_views(views)\n",
    "    eps_decreasing.set_hits(hits)\n",
    "    eps_decreasing.set_values(values)\n",
    "    \n",
    "    pred, true = recommendations(num_examples, (num_examples + batch), eps_decreasing, AdPushup)\n",
    "    average_regret_eps_decreasing.append(get_average_regret(true, pred))"
   ]
  },
  {
   "cell_type": "code",
   "execution_count": 13,
   "metadata": {
    "collapsed": true
   },
   "outputs": [],
   "source": [
    "average_regret_thompson = []\n",
    "\n",
    "num_examples = 1\n",
    "thompson = Thompson(len(ads))\n",
    "\n",
    "thompson = learning(0, num_examples, thompson, AdPushup)\n",
    "views = thompson.get_views()\n",
    "hits = thompson.get_hits()\n",
    "values = thompson.get_values()\n",
    "\n",
    "for batch in batches:\n",
    "    \n",
    "    thompson.set_views(views)\n",
    "    thompson.set_hits(hits)\n",
    "    thompson.set_values(values)\n",
    "    \n",
    "    pred, true = recommendations(num_examples, (num_examples + batch), thompson, AdPushup)\n",
    "    average_regret_thompson.append(get_average_regret(true, pred))"
   ]
  },
  {
   "cell_type": "code",
   "execution_count": 14,
   "metadata": {
    "collapsed": false
   },
   "outputs": [],
   "source": [
    "average_regret_ucb1 = []\n",
    "\n",
    "num_examples = 1\n",
    "ucb1 = UCB1(len(ads))\n",
    "\n",
    "ucb1 = learning(0, num_examples, ucb1, AdPushup)\n",
    "views = ucb1.get_views()\n",
    "hits = ucb1.get_hits()\n",
    "values = ucb1.get_values()\n",
    "\n",
    "for batch in batches:\n",
    "    \n",
    "    ucb1.set_views(views)\n",
    "    ucb1.set_hits(hits)\n",
    "    ucb1.set_values(values)\n",
    "    \n",
    "    pred, true = recommendations(num_examples, (num_examples + batch), ucb1, AdPushup)\n",
    "    average_regret_ucb1.append(get_average_regret(true, pred))"
   ]
  },
  {
   "cell_type": "code",
   "execution_count": 15,
   "metadata": {
    "collapsed": false
   },
   "outputs": [
    {
     "name": "stdout",
     "output_type": "stream",
     "text": [
      "Random \n",
      "[50, 98, 495, 990, 4922, 9870, 29555, 49230, 98503, 492757, 985554]\n",
      "Epsilon Greedy \n",
      "[49, 98, 485, 965, 4822, 9664, 29007, 48345, 96739, 483824, 967480]\n",
      "Epsilon Greedy decreasing \n",
      "[49, 98, 485, 965, 4822, 9664, 29007, 48345, 96739, 483824, 967480]\n",
      "Thompson \n",
      "[47, 98, 492, 978, 4920, 9828, 29507, 49181, 98273, 491581, 982906]\n",
      "UCB1 \n",
      "[49, 99, 491, 982, 4918, 9851, 29546, 49202, 98441, 492195, 984588]\n"
     ]
    }
   ],
   "source": [
    "print 'Random \\n', average_regret_random\n",
    "print 'Epsilon Greedy \\n', average_regret_eps\n",
    "print 'Epsilon Greedy decreasing \\n', average_regret_eps_decreasing\n",
    "print 'Thompson \\n', average_regret_thompson\n",
    "print 'UCB1 \\n', average_regret_ucb1"
   ]
  },
  {
   "cell_type": "code",
   "execution_count": 18,
   "metadata": {
    "collapsed": false
   },
   "outputs": [
    {
     "data": {
      "image/png": "[encoded data removed]",
      "text/plain": [
       "<matplotlib.figure.Figure at 0x1029db850>"
      ]
     },
     "metadata": {},
     "output_type": "display_data"
    }
   ],
   "source": [
    "plt.figure(figsize=(10, 10))\n",
    "plt.plot((batches), average_regret_random, 'r', label='random')\n",
    "plt.plot((batches), average_regret_eps, 'g', label='epsilon greedy')\n",
    "plt.plot((batches), average_regret_eps_decreasing, 'b', label='epsilon greedy decreasing')\n",
    "plt.plot((batches), average_regret_thompson, 'purple', label='Thompson sampling')\n",
    "plt.plot((batches), average_regret_ucb1, 'orange', label='UCB1')\n",
    "plt.legend(loc='left')\n",
    "plt.xlabel('Number of page views')\n",
    "plt.ylabel('Total regret')\n",
    "plt.title('Analyzing different algorithms')\n",
    "plt.show()\n",
    "plt.close();"
   ]
  }
 ],
 "metadata": {
  "kernelspec": {
   "display_name": "Python 2",
   "language": "python",
   "name": "python2"
  },
  "language_info": {
   "codemirror_mode": {
    "name": "ipython",
    "version": 2
   },
   "file_extension": ".py",
   "mimetype": "text/x-python",
   "name": "python",
   "nbconvert_exporter": "python",
   "pygments_lexer": "ipython2",
   "version": "2.7.10"
  }
 },
 "nbformat": 4,
 "nbformat_minor": 0
}
